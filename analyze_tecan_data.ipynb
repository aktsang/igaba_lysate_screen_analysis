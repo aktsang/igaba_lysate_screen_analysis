{
 "cells": [
  {
   "cell_type": "code",
   "execution_count": null,
   "metadata": {},
   "outputs": [],
   "source": [
    "# Enter information for the script in this cell, then run all cells to generate output\n",
    "\n",
    "csv_input_name = '20210820_all_plates.csv'\n",
    "roundname = 'Round_04'\n",
    "plate1name = 'M0029'\n",
    "plate2name = 'M0030'\n",
    "plate3name = 'M0031'\n",
    "plate4name = 'M0032'\n",
    "plate5name = 'M0033'\n",
    "plate6name = 'M0034'\n",
    "plate7name = 'M0035'\n",
    "plate8name = 'M0036'"
   ]
  },
  {
   "cell_type": "code",
   "execution_count": null,
   "metadata": {},
   "outputs": [],
   "source": [
    "import pandas as pd\n",
    "import matplotlib.pyplot as plt"
   ]
  },
  {
   "cell_type": "code",
   "execution_count": null,
   "metadata": {},
   "outputs": [],
   "source": [
    "# read csv file with data\n",
    "igaba = pd.read_csv(csv_input_name)\n",
    "igaba.head()"
   ]
  },
  {
   "cell_type": "code",
   "execution_count": null,
   "metadata": {},
   "outputs": [],
   "source": [
    "# add a column that denotes whether data was noisy (1=noisy, 0=good)\n",
    "# 5/17/21: increased stringency of noise criteria to 2000 raw fluorescence. \n",
    "#igaba.loc[(igaba[\"F0\"]>1000)|(igaba[\"Fmax\"]>8999), 'Noisy'] = 0\n",
    "#igaba.loc[(igaba[\"F0\"]<1000)&(igaba[\"Fmax\"]<9000), 'Noisy'] = 1\n",
    "igaba.loc[(igaba[\"F0\"]>1000), 'Noisy'] = 0\n",
    "igaba.loc[(igaba[\"F0\"]<1000), 'Noisy'] = 1\n",
    "igaba"
   ]
  },
  {
   "cell_type": "code",
   "execution_count": null,
   "metadata": {},
   "outputs": [],
   "source": [
    "# Select control wells\n",
    "ctrls = igaba[igaba[\"Well\"].isin([\"A01\",\"B01\",\"C01\"])]\n",
    "ctrls\n",
    "ctrlfilename = roundname + '_ctrls.csv'\n",
    "ctrlfilename\n",
    "ctrls.to_csv(ctrlfilename)"
   ]
  },
  {
   "cell_type": "code",
   "execution_count": null,
   "metadata": {},
   "outputs": [],
   "source": [
    "plate1 = igaba[igaba[\"Plate\"]==plate1name]\n",
    "plate2 = igaba[igaba[\"Plate\"]==plate2name]\n",
    "plate3 = igaba[igaba[\"Plate\"]==plate3name]\n",
    "plate4 = igaba[igaba[\"Plate\"]==plate4name]\n",
    "plate5 = igaba[igaba[\"Plate\"]==plate5name]\n",
    "plate6 = igaba[igaba[\"Plate\"]==plate6name]\n",
    "plate7 = igaba[igaba[\"Plate\"]==plate7name]\n",
    "plate8 = igaba[igaba[\"Plate\"]==plate8name]"
   ]
  },
  {
   "cell_type": "code",
   "execution_count": null,
   "metadata": {},
   "outputs": [],
   "source": [
    "# find average DFF of control wells in each plate\n",
    "plate1_ctrls = ctrls[ctrls[\"Plate\"]==plate1name]\n",
    "plate1_ctrl_dff = plate1_ctrls[\"DFF\"].mean()\n",
    "\n",
    "plate2_ctrls = ctrls[ctrls[\"Plate\"]==plate2name]\n",
    "plate2_ctrl_dff = plate2_ctrls[\"DFF\"].mean()\n",
    "\n",
    "plate3_ctrls = ctrls[ctrls[\"Plate\"]==plate3name]\n",
    "plate3_ctrl_dff = plate3_ctrls[\"DFF\"].mean()\n",
    "\n",
    "plate4_ctrls = ctrls[ctrls[\"Plate\"]==plate4name]\n",
    "plate4_ctrl_dff = plate4_ctrls[\"DFF\"].mean()\n",
    "\n",
    "plate5_ctrls = ctrls[ctrls[\"Plate\"]==plate5name]\n",
    "plate5_ctrl_dff = plate5_ctrls[\"DFF\"].mean()\n",
    "\n",
    "plate6_ctrls = ctrls[ctrls[\"Plate\"]==plate6name]\n",
    "plate6_ctrl_dff = plate6_ctrls[\"DFF\"].mean()\n",
    "\n",
    "plate7_ctrls = ctrls[ctrls[\"Plate\"]==plate7name]\n",
    "plate7_ctrl_dff = plate7_ctrls[\"DFF\"].mean()\n",
    "\n",
    "plate8_ctrls = ctrls[ctrls[\"Plate\"]==plate8name]\n",
    "plate8_ctrl_dff= plate8_ctrls[\"DFF\"].mean()\n"
   ]
  },
  {
   "cell_type": "code",
   "execution_count": null,
   "metadata": {},
   "outputs": [],
   "source": [
    "# make a list of all values that pass the noise test.\n",
    "allPlates_goodF = igaba[igaba[\"Noisy\"]==0]\n",
    "allPlates_goodF"
   ]
  },
  {
   "cell_type": "code",
   "execution_count": null,
   "metadata": {},
   "outputs": [],
   "source": [
    "# sort good data by descending DFF\n",
    "# pick out the top 20 highest DFF wells\n",
    "allPlates_goodF_sorted = allPlates_goodF.sort_values(by=[\"DFF\"],ascending=False)\n",
    "tophits = allPlates_goodF_sorted.head(20)\n",
    "\n",
    "# filter out DFF values less than 2\n",
    "tophits = tophits[tophits[\"DFF\"]>=2]\n",
    "print('*** Top hits sorted by DFF ***')\n",
    "tophitsfilename = roundname + '_tophits_sorted_by_DFF.csv'\n",
    "tophits.to_csv(tophitsfilename)\n",
    "tophits"
   ]
  },
  {
   "cell_type": "code",
   "execution_count": null,
   "metadata": {},
   "outputs": [],
   "source": [
    "# sort the hit list by plate number\n",
    "tophits_byPlate = tophits.sort_values(by=[\"Plate\"])\n",
    "print('*** Top hits sorted by Plate ***')\n",
    "tophits_byPlate_filename = roundname + '_tophits_sorted_by_PLATE.csv'\n",
    "tophits_byPlate.to_csv(tophits_byPlate_filename)\n",
    "tophits_byPlate"
   ]
  },
  {
   "cell_type": "code",
   "execution_count": null,
   "metadata": {},
   "outputs": [],
   "source": [
    "# GRAPHS\n",
    "# Make a list of 96 wells for x-axis (0-95)\n",
    "numwells = igaba.shape\n",
    "wellidx = list(range(96))"
   ]
  },
  {
   "cell_type": "code",
   "execution_count": null,
   "metadata": {},
   "outputs": [],
   "source": [
    "#All plates: black dots have good F values, orange dots are \"Noisy\",\n",
    "#and the green triangle shows the average DFF of the control wells.\n",
    "\n",
    "#Plate 1\n",
    "plt.scatter(wellidx,plate1[\"DFF\"],c=plate1[\"Noisy\"],cmap='copper')\n",
    "plt.plot(48,plate1_ctrl_dff,'g^')\n",
    "plt.ylabel('DFF')\n",
    "plt.title(plate1name)\n",
    "fig1name = plate1name + '.png'\n",
    "plt.savefig(fig1name)"
   ]
  },
  {
   "cell_type": "code",
   "execution_count": null,
   "metadata": {},
   "outputs": [],
   "source": [
    "#Plate 2\n",
    "plt.scatter(wellidx,plate2[\"DFF\"],c=plate2[\"Noisy\"],cmap=\"copper\")\n",
    "plt.plot(48,plate2_ctrl_dff,'g^')\n",
    "plt.ylabel('DFF')\n",
    "plt.title(plate2name)\n",
    "fig2name = plate2name + '.png'\n",
    "plt.savefig(fig2name)"
   ]
  },
  {
   "cell_type": "code",
   "execution_count": null,
   "metadata": {},
   "outputs": [],
   "source": [
    "#Plate 3\n",
    "plt.scatter(wellidx,plate3[\"DFF\"],c=plate3[\"Noisy\"],cmap=\"copper\")\n",
    "plt.plot(48,plate3_ctrl_dff,'g^')\n",
    "plt.ylabel('DFF')\n",
    "plt.title(plate3name)\n",
    "fig3name = plate3name + '.png'\n",
    "plt.savefig(fig3name)"
   ]
  },
  {
   "cell_type": "code",
   "execution_count": null,
   "metadata": {},
   "outputs": [],
   "source": [
    "#Plate 4\n",
    "plt.scatter(wellidx,plate4[\"DFF\"],c=plate4[\"Noisy\"],cmap=\"copper\")\n",
    "plt.plot(48,plate4_ctrl_dff,'g^')\n",
    "plt.ylabel('DFF')\n",
    "plt.title(plate4name)\n",
    "fig4name = plate4name + '.png'\n",
    "plt.savefig(fig4name)"
   ]
  },
  {
   "cell_type": "code",
   "execution_count": null,
   "metadata": {},
   "outputs": [],
   "source": [
    "#Plate 5\n",
    "plt.scatter(wellidx,plate5[\"DFF\"],c=plate5[\"Noisy\"],cmap=\"copper\")\n",
    "plt.plot(48,plate5_ctrl_dff,'g^')\n",
    "plt.ylabel('DFF')\n",
    "plt.title(plate5name)\n",
    "fig5name = plate5name + '.png'\n",
    "plt.savefig(fig5name)"
   ]
  },
  {
   "cell_type": "code",
   "execution_count": null,
   "metadata": {},
   "outputs": [],
   "source": [
    "#Plate 6\n",
    "plt.scatter(wellidx,plate6[\"DFF\"],c=plate6[\"Noisy\"],cmap=\"copper\")\n",
    "plt.plot(48,plate6_ctrl_dff,'g^')\n",
    "plt.ylabel('DFF')\n",
    "plt.title(plate6name)\n",
    "fig6name = plate6name + '.png'\n",
    "plt.savefig(fig6name)"
   ]
  },
  {
   "cell_type": "code",
   "execution_count": null,
   "metadata": {},
   "outputs": [],
   "source": [
    "#Plate 7\n",
    "plt.scatter(wellidx,plate7[\"DFF\"],c=plate7[\"Noisy\"],cmap=\"copper\")\n",
    "plt.plot(48,plate7_ctrl_dff,'g^')\n",
    "plt.ylabel('DFF')\n",
    "plt.title(plate7name)\n",
    "fig7name = plate7name + '.png'\n",
    "plt.savefig(fig7name)"
   ]
  },
  {
   "cell_type": "code",
   "execution_count": null,
   "metadata": {},
   "outputs": [],
   "source": [
    "#Plate 8\n",
    "plt.scatter(wellidx,plate8[\"DFF\"],c=plate8[\"Noisy\"],cmap=\"copper\")\n",
    "plt.plot(48,plate8_ctrl_dff,'g^')\n",
    "plt.ylabel('DFF')\n",
    "plt.title(plate8name)\n",
    "fig8name = plate8name + '.png'\n",
    "plt.savefig(fig8name)"
   ]
  }
 ],
 "metadata": {
  "kernelspec": {
   "display_name": "Python 3",
   "language": "python",
   "name": "python3"
  },
  "language_info": {
   "codemirror_mode": {
    "name": "ipython",
    "version": 3
   },
   "file_extension": ".py",
   "mimetype": "text/x-python",
   "name": "python",
   "nbconvert_exporter": "python",
   "pygments_lexer": "ipython3",
   "version": "3.7.3"
  }
 },
 "nbformat": 4,
 "nbformat_minor": 4
}
