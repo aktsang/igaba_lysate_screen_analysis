{
 "cells": [
  {
   "cell_type": "code",
   "execution_count": 108,
   "metadata": {},
   "outputs": [],
   "source": [
    "# import dependencies and set starting alignment parameters\n",
    "import pandas as pd\n",
    "from Bio import pairwise2\n",
    "gap_open_penalty = -1\n",
    "gap_extend_penalty = -0.5"
   ]
  },
  {
   "cell_type": "code",
   "execution_count": 109,
   "metadata": {},
   "outputs": [],
   "source": [
    "# set reference sequence to 602.2\n",
    "refseq = 'MGESINFVSWGGSTQDAQKQAWADPFSKASGITVVQDGPTDYGKLKAMVESGNVQWDVVDVEADFALRAAAEGLLEPLDFSVIQRDKIDPRFVSDHGVGSFLFSFVLGYNEGKLGASKPQDWTALFDTKTYPGKRALYKWPSPGVLELALLADGVPADKLYPLDLDRAFKKLDTIKKDIVWWGGGAQSQQLLASGEVSMGQFWNGRIHALQEDGAPVGVSWKQNLVMADILVVPKGTKNKAAAMKFLASASSAKGQDDFSALTAYAPVNIDSVQRLDLAQVRITADKQKNGIMANFKIRHNVEDGSVQLADHYQQNTPIGDGPVLLPDNHYLSTQSVLSKDPNEKRDHMVLLEFVTAAGITLGMDELYKGGTGGSMSKGEELFTGVVPILVELDGDVNGHKFSVRGEGEGDATNGKLTLKFICTTGKLPVPWPTLVTTLTYGVQCFSRYPDHMKQHDFFKSAMPEGYVQERTISFKDDGTYKTRAEVKFEGDTLVNRIELKGIDFKEDGNILGHKLEYNWNANLAPNLPTAYVKDQITLDFAYWAKNGPAIATRWNEWLVKGSHHHHHH*'"
   ]
  },
  {
   "cell_type": "code",
   "execution_count": 110,
   "metadata": {},
   "outputs": [],
   "source": [
    "# read csv of dna sequences and generate translations (?) not yet implemented"
   ]
  },
  {
   "cell_type": "code",
   "execution_count": 111,
   "metadata": {},
   "outputs": [],
   "source": [
    "# read the csv of PROTEIN sequences\n",
    "prot_seq = pd.read_csv('test.csv')"
   ]
  },
  {
   "cell_type": "code",
   "execution_count": 112,
   "metadata": {},
   "outputs": [
    {
     "data": {
      "text/html": [
       "<div>\n",
       "<style scoped>\n",
       "    .dataframe tbody tr th:only-of-type {\n",
       "        vertical-align: middle;\n",
       "    }\n",
       "\n",
       "    .dataframe tbody tr th {\n",
       "        vertical-align: top;\n",
       "    }\n",
       "\n",
       "    .dataframe thead th {\n",
       "        text-align: right;\n",
       "    }\n",
       "</style>\n",
       "<table border=\"1\" class=\"dataframe\">\n",
       "  <thead>\n",
       "    <tr style=\"text-align: right;\">\n",
       "      <th></th>\n",
       "      <th>Plate</th>\n",
       "      <th>Well</th>\n",
       "      <th>Sequence</th>\n",
       "    </tr>\n",
       "  </thead>\n",
       "  <tbody>\n",
       "    <tr>\n",
       "      <th>0</th>\n",
       "      <td>M0025</td>\n",
       "      <td>A02</td>\n",
       "      <td>MGESINFVSWGGSTQDAQKQAWADPFSKASGITVVQDGPTDYGKLK...</td>\n",
       "    </tr>\n",
       "    <tr>\n",
       "      <th>1</th>\n",
       "      <td>M0026</td>\n",
       "      <td>A12</td>\n",
       "      <td>MGESINFVSWGGSTQDAQKQAWADPFSKASGITVVQDGPTDYGKLK...</td>\n",
       "    </tr>\n",
       "    <tr>\n",
       "      <th>2</th>\n",
       "      <td>M0026</td>\n",
       "      <td>D07</td>\n",
       "      <td>MGESINFVSWGGSTQDAQKQAWADPFSKASGITVVQDGPTDYGKLK...</td>\n",
       "    </tr>\n",
       "    <tr>\n",
       "      <th>3</th>\n",
       "      <td>M0027</td>\n",
       "      <td>E02</td>\n",
       "      <td>MGESINFVSWGGSTQDAQKQAWADPFSKASGITVVQDGPTDYGKLK...</td>\n",
       "    </tr>\n",
       "  </tbody>\n",
       "</table>\n",
       "</div>"
      ],
      "text/plain": [
       "   Plate Well                                           Sequence\n",
       "0  M0025  A02  MGESINFVSWGGSTQDAQKQAWADPFSKASGITVVQDGPTDYGKLK...\n",
       "1  M0026  A12  MGESINFVSWGGSTQDAQKQAWADPFSKASGITVVQDGPTDYGKLK...\n",
       "2  M0026  D07  MGESINFVSWGGSTQDAQKQAWADPFSKASGITVVQDGPTDYGKLK...\n",
       "3  M0027  E02  MGESINFVSWGGSTQDAQKQAWADPFSKASGITVVQDGPTDYGKLK..."
      ]
     },
     "execution_count": 112,
     "metadata": {},
     "output_type": "execute_result"
    }
   ],
   "source": [
    "prot_seq"
   ]
  },
  {
   "cell_type": "code",
   "execution_count": 113,
   "metadata": {},
   "outputs": [
    {
     "name": "stdout",
     "output_type": "stream",
     "text": [
      "(4, 3)\n",
      "4\n"
     ]
    }
   ],
   "source": [
    "prot_seq.shape\n",
    "print(prot_seq.shape)\n",
    "\n",
    "numItems = prot_seq.shape[0]\n",
    "print(numItems)"
   ]
  },
  {
   "cell_type": "code",
   "execution_count": 114,
   "metadata": {},
   "outputs": [
    {
     "data": {
      "text/html": [
       "<div>\n",
       "<style scoped>\n",
       "    .dataframe tbody tr th:only-of-type {\n",
       "        vertical-align: middle;\n",
       "    }\n",
       "\n",
       "    .dataframe tbody tr th {\n",
       "        vertical-align: top;\n",
       "    }\n",
       "\n",
       "    .dataframe thead th {\n",
       "        text-align: right;\n",
       "    }\n",
       "</style>\n",
       "<table border=\"1\" class=\"dataframe\">\n",
       "  <thead>\n",
       "    <tr style=\"text-align: right;\">\n",
       "      <th></th>\n",
       "      <th>Plate</th>\n",
       "      <th>Well</th>\n",
       "      <th>Sequence</th>\n",
       "      <th>Mutations</th>\n",
       "    </tr>\n",
       "  </thead>\n",
       "  <tbody>\n",
       "    <tr>\n",
       "      <th>0</th>\n",
       "      <td>M0025</td>\n",
       "      <td>A02</td>\n",
       "      <td>MGESINFVSWGGSTQDAQKQAWADPFSKASGITVVQDGPTDYGKLK...</td>\n",
       "      <td></td>\n",
       "    </tr>\n",
       "    <tr>\n",
       "      <th>1</th>\n",
       "      <td>M0026</td>\n",
       "      <td>A12</td>\n",
       "      <td>MGESINFVSWGGSTQDAQKQAWADPFSKASGITVVQDGPTDYGKLK...</td>\n",
       "      <td></td>\n",
       "    </tr>\n",
       "    <tr>\n",
       "      <th>2</th>\n",
       "      <td>M0026</td>\n",
       "      <td>D07</td>\n",
       "      <td>MGESINFVSWGGSTQDAQKQAWADPFSKASGITVVQDGPTDYGKLK...</td>\n",
       "      <td></td>\n",
       "    </tr>\n",
       "    <tr>\n",
       "      <th>3</th>\n",
       "      <td>M0027</td>\n",
       "      <td>E02</td>\n",
       "      <td>MGESINFVSWGGSTQDAQKQAWADPFSKASGITVVQDGPTDYGKLK...</td>\n",
       "      <td></td>\n",
       "    </tr>\n",
       "  </tbody>\n",
       "</table>\n",
       "</div>"
      ],
      "text/plain": [
       "   Plate Well                                           Sequence Mutations\n",
       "0  M0025  A02  MGESINFVSWGGSTQDAQKQAWADPFSKASGITVVQDGPTDYGKLK...          \n",
       "1  M0026  A12  MGESINFVSWGGSTQDAQKQAWADPFSKASGITVVQDGPTDYGKLK...          \n",
       "2  M0026  D07  MGESINFVSWGGSTQDAQKQAWADPFSKASGITVVQDGPTDYGKLK...          \n",
       "3  M0027  E02  MGESINFVSWGGSTQDAQKQAWADPFSKASGITVVQDGPTDYGKLK...          "
      ]
     },
     "execution_count": 114,
     "metadata": {},
     "output_type": "execute_result"
    }
   ],
   "source": [
    "# Create a mutations column for all entries\n",
    "prot_seq.loc[(prot_seq['Plate'] != ''), 'Mutations'] = ''\n",
    "prot_seq"
   ]
  },
  {
   "cell_type": "code",
   "execution_count": 115,
   "metadata": {},
   "outputs": [],
   "source": [
    "# derived from /tsanga/code/find_mutations.py\n",
    "# version 2021-08-18\n",
    "\n",
    "# go through the sequences and compare each to 602.2. \n",
    "# create a column in the pandas table that shows the amino acid changes\n",
    "# it's important to note that the residue numbering is specific to this analysis, it must be converted\n",
    "# to Jonny's system for interpretation. \n",
    "\n",
    "for i in range(numItems):\n",
    "    mutList = []\n",
    "    \n",
    "    # on each iteration, assign the entry sequence to seq\n",
    "    seq = prot_seq.iloc[i]['Sequence']\n",
    "    \n",
    "    \n",
    "    # find the differences in letters\n",
    "    for j in range(len(seq)):\n",
    "        if seq[j] != refseq[j]:\n",
    "            if seq[j] == '*':\n",
    "                mutation = refseq[j] + str(j+1) + 'STOP'\n",
    "            else:\n",
    "                mutation = refseq[j] + str(j+1) + seq[i]\n",
    "            mutList.append(mutation)\n",
    "            \n",
    "    # convert array to string\n",
    "    mutString = str(mutList)\n",
    "            \n",
    "    # assign the mutation list to the correct item by matching the sequence\n",
    "    prot_seq.loc[(prot_seq[\"Sequence\"] == seq), 'Mutations'] = mutString\n",
    "    \n"
   ]
  },
  {
   "cell_type": "code",
   "execution_count": 116,
   "metadata": {},
   "outputs": [
    {
     "data": {
      "text/html": [
       "<div>\n",
       "<style scoped>\n",
       "    .dataframe tbody tr th:only-of-type {\n",
       "        vertical-align: middle;\n",
       "    }\n",
       "\n",
       "    .dataframe tbody tr th {\n",
       "        vertical-align: top;\n",
       "    }\n",
       "\n",
       "    .dataframe thead th {\n",
       "        text-align: right;\n",
       "    }\n",
       "</style>\n",
       "<table border=\"1\" class=\"dataframe\">\n",
       "  <thead>\n",
       "    <tr style=\"text-align: right;\">\n",
       "      <th></th>\n",
       "      <th>Plate</th>\n",
       "      <th>Well</th>\n",
       "      <th>Sequence</th>\n",
       "      <th>Mutations</th>\n",
       "    </tr>\n",
       "  </thead>\n",
       "  <tbody>\n",
       "    <tr>\n",
       "      <th>0</th>\n",
       "      <td>M0025</td>\n",
       "      <td>A02</td>\n",
       "      <td>MGESINFVSWGGSTQDAQKQAWADPFSKASGITVVQDGPTDYGKLK...</td>\n",
       "      <td>['D60M', 'S100M', 'F103M', 'Y138M', 'K254M', '...</td>\n",
       "    </tr>\n",
       "    <tr>\n",
       "      <th>1</th>\n",
       "      <td>M0026</td>\n",
       "      <td>A12</td>\n",
       "      <td>MGESINFVSWGGSTQDAQKQAWADPFSKASGITVVQDGPTDYGKLK...</td>\n",
       "      <td>['D60G', 'S100G', 'F103G', 'A116G', 'K254G', '...</td>\n",
       "    </tr>\n",
       "    <tr>\n",
       "      <th>2</th>\n",
       "      <td>M0026</td>\n",
       "      <td>D07</td>\n",
       "      <td>MGESINFVSWGGSTQDAQKQAWADPFSKASGITVVQDGPTDYGKLK...</td>\n",
       "      <td>['D60E', 'S100E', 'F103E', 'K254E', 'L309E', '...</td>\n",
       "    </tr>\n",
       "    <tr>\n",
       "      <th>3</th>\n",
       "      <td>M0027</td>\n",
       "      <td>E02</td>\n",
       "      <td>MGESINFVSWGGSTQDAQKQAWADPFSKASGITVVQDGPTDYGKLK...</td>\n",
       "      <td>['S100S', 'F103S', 'T130S', 'M227S', 'K254S', ...</td>\n",
       "    </tr>\n",
       "  </tbody>\n",
       "</table>\n",
       "</div>"
      ],
      "text/plain": [
       "   Plate Well                                           Sequence  \\\n",
       "0  M0025  A02  MGESINFVSWGGSTQDAQKQAWADPFSKASGITVVQDGPTDYGKLK...   \n",
       "1  M0026  A12  MGESINFVSWGGSTQDAQKQAWADPFSKASGITVVQDGPTDYGKLK...   \n",
       "2  M0026  D07  MGESINFVSWGGSTQDAQKQAWADPFSKASGITVVQDGPTDYGKLK...   \n",
       "3  M0027  E02  MGESINFVSWGGSTQDAQKQAWADPFSKASGITVVQDGPTDYGKLK...   \n",
       "\n",
       "                                           Mutations  \n",
       "0  ['D60M', 'S100M', 'F103M', 'Y138M', 'K254M', '...  \n",
       "1  ['D60G', 'S100G', 'F103G', 'A116G', 'K254G', '...  \n",
       "2  ['D60E', 'S100E', 'F103E', 'K254E', 'L309E', '...  \n",
       "3  ['S100S', 'F103S', 'T130S', 'M227S', 'K254S', ...  "
      ]
     },
     "execution_count": 116,
     "metadata": {},
     "output_type": "execute_result"
    }
   ],
   "source": [
    "prot_seq"
   ]
  },
  {
   "cell_type": "code",
   "execution_count": 117,
   "metadata": {},
   "outputs": [],
   "source": [
    "prot_seq.to_csv('Analyzed_Sequences.csv')"
   ]
  },
  {
   "cell_type": "code",
   "execution_count": null,
   "metadata": {},
   "outputs": [],
   "source": []
  }
 ],
 "metadata": {
  "kernelspec": {
   "display_name": "Python 3",
   "language": "python",
   "name": "python3"
  },
  "language_info": {
   "codemirror_mode": {
    "name": "ipython",
    "version": 3
   },
   "file_extension": ".py",
   "mimetype": "text/x-python",
   "name": "python",
   "nbconvert_exporter": "python",
   "pygments_lexer": "ipython3",
   "version": "3.7.3"
  }
 },
 "nbformat": 4,
 "nbformat_minor": 2
}
