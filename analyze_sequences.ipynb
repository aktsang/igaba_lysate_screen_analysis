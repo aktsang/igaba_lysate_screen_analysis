{
 "cells": [
  {
   "cell_type": "code",
   "execution_count": null,
   "metadata": {},
   "outputs": [],
   "source": [
    "# import dependencies and set starting alignment parameters\n",
    "import pandas as pd"
   ]
  },
  {
   "cell_type": "code",
   "execution_count": null,
   "metadata": {},
   "outputs": [],
   "source": [
    "# set reference sequence to 602.2\n",
    "refseq = 'MGESINFVSWGGSTQDAQKQAWADPFSKASGITVVQDGPTDYGKLKAMVESGNVQWDVVDVEADFALRAAAEGLLEPLDFSVIQRDKIDPRFVSDHGVGSFLFSFVLGYNEGKLGASKPQDWTALFDTKTYPGKRALYKWPSPGVLELALLADGVPADKLYPLDLDRAFKKLDTIKKDIVWWGGGAQSQQLLASGEVSMGQFWNGRIHALQEDGAPVGVSWKQNLVMADILVVPKGTKNKAAAMKFLASASSAKGQDDFSALTAYAPVNIDSVQRLDLAQVRITADKQKNGIMANFKIRHNVEDGSVQLADHYQQNTPIGDGPVLLPDNHYLSTQSVLSKDPNEKRDHMVLLEFVTAAGITLGMDELYKGGTGGSMSKGEELFTGVVPILVELDGDVNGHKFSVRGEGEGDATNGKLTLKFICTTGKLPVPWPTLVTTLTYGVQCFSRYPDHMKQHDFFKSAMPEGYVQERTISFKDDGTYKTRAEVKFEGDTLVNRIELKGIDFKEDGNILGHKLEYNWNANLAPNLPTAYVKDQITLDFAYWAKNGPAIATRWNEWLVKGSHHHHHH*'"
   ]
  },
  {
   "cell_type": "code",
   "execution_count": null,
   "metadata": {},
   "outputs": [],
   "source": [
    "# read csv of dna sequences and generate translations (?) not yet implemented"
   ]
  },
  {
   "cell_type": "code",
   "execution_count": null,
   "metadata": {},
   "outputs": [],
   "source": [
    "# read the csv of PROTEIN sequences\n",
    "prot_seq = pd.read_csv('20210819_igabasnfr_sequence_analysis_input.csv')"
   ]
  },
  {
   "cell_type": "code",
   "execution_count": null,
   "metadata": {},
   "outputs": [],
   "source": [
    "prot_seq"
   ]
  },
  {
   "cell_type": "code",
   "execution_count": null,
   "metadata": {},
   "outputs": [],
   "source": [
    "prot_seq.shape\n",
    "print(prot_seq.shape)\n",
    "\n",
    "numItems = prot_seq.shape[0]\n",
    "print(numItems)"
   ]
  },
  {
   "cell_type": "code",
   "execution_count": null,
   "metadata": {},
   "outputs": [],
   "source": [
    "# Create length and mutations columns for all entries\n",
    "prot_seq.loc[(prot_seq['Plate'] != ''), 'Length'] = ''\n",
    "prot_seq.loc[(prot_seq['Plate'] != ''), 'Mutations'] = ''\n",
    "prot_seq"
   ]
  },
  {
   "cell_type": "code",
   "execution_count": null,
   "metadata": {},
   "outputs": [],
   "source": [
    "# derived from /tsanga/code/find_mutations.py\n",
    "# version 2021-08-18\n",
    "\n",
    "# go through the sequences and compare each to 602.2. \n",
    "# create a column in the pandas table that shows the amino acid changes\n",
    "# it's important to note that the residue numbering is specific to this analysis, it must be converted\n",
    "# to Jonny's system for interpretation. \n",
    "\n",
    "for i in range(numItems):\n",
    "    mutList = []\n",
    "    \n",
    "    # on each iteration, assign the entry sequence to seq\n",
    "    seq = prot_seq.iloc[i]['Sequence']\n",
    "    \n",
    "    # find the length of the sequence\n",
    "    prot_seq.loc[(prot_seq[\"Sequence\"] == seq), 'Length'] = len(seq)\n",
    "    \n",
    "    # find the differences in letters at each index of the sequence\n",
    "    for j in range(len(seq)):\n",
    "        if seq[j] != refseq[j]:\n",
    "            if seq[j] == '*':\n",
    "                mutation = refseq[j] + str(j+1) + 'STOP'\n",
    "            else:\n",
    "                mutation = refseq[j] + str(j+1) + seq[j]\n",
    "            mutList.append(mutation)\n",
    "            \n",
    "    # convert array to string\n",
    "    mutString = str(mutList)\n",
    "    mutString = mutString.replace(\"'\",\"\")\n",
    "    mutString = mutString.replace(\"[\",\"\")\n",
    "    mutString = mutString.replace(\"]\",\"\")\n",
    "    \n",
    "    # remove excess characters from mutString\n",
    "    \n",
    "            \n",
    "    # assign the mutation list to the correct item by matching the sequence\n",
    "    prot_seq.loc[(prot_seq[\"Sequence\"] == seq), 'Mutations'] = mutString\n",
    "    \n"
   ]
  },
  {
   "cell_type": "code",
   "execution_count": null,
   "metadata": {
    "scrolled": true
   },
   "outputs": [],
   "source": [
    "prot_seq"
   ]
  },
  {
   "cell_type": "code",
   "execution_count": null,
   "metadata": {},
   "outputs": [],
   "source": [
    "prot_seq.to_csv('20210819_iGABASnFR_mutations_results.csv')"
   ]
  }
 ],
 "metadata": {
  "kernelspec": {
   "display_name": "Python 3",
   "language": "python",
   "name": "python3"
  },
  "language_info": {
   "codemirror_mode": {
    "name": "ipython",
    "version": 3
   },
   "file_extension": ".py",
   "mimetype": "text/x-python",
   "name": "python",
   "nbconvert_exporter": "python",
   "pygments_lexer": "ipython3",
   "version": "3.7.3"
  }
 },
 "nbformat": 4,
 "nbformat_minor": 2
}
